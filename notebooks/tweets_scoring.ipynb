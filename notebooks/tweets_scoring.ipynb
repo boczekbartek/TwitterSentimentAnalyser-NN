{
 "cells": [
  {
   "cell_type": "markdown",
   "metadata": {},
   "source": [
    "## Interface for easy <font color=\"#33ccff\">tweets </font> scoring"
   ]
  },
  {
   "cell_type": "code",
   "execution_count": null,
   "metadata": {},
   "outputs": [],
   "source": [
    "import pandas as pd"
   ]
  },
  {
   "cell_type": "code",
   "execution_count": null,
   "metadata": {},
   "outputs": [],
   "source": [
    "csv_file = \"../data/tweets_apple.csv\""
   ]
  },
  {
   "cell_type": "code",
   "execution_count": null,
   "metadata": {},
   "outputs": [],
   "source": [
    "# Load the most recent version of data\n",
    "df = pd.read_csv(csv_file)\n",
    "df"
   ]
  },
  {
   "cell_type": "code",
   "execution_count": null,
   "metadata": {},
   "outputs": [],
   "source": [
    "scored = len(df.dropna())\n",
    "unscorred = len(df) - scored\n",
    "print(\"Scored tweets: {}\".format(scored))\n",
    "print(\"Unscorred: {}\".format(unscorred))"
   ]
  },
  {
   "cell_type": "code",
   "execution_count": null,
   "metadata": {},
   "outputs": [],
   "source": [
    "import math\n",
    "from IPython.display import clear_output\n",
    "\n",
    "allowed_scores = [1,2,3,4,5]\n",
    "\n",
    "print(\"\"\"Scores description:\n",
    "1 - negative\n",
    "2 - slightly negative\n",
    "3 - neutral\n",
    "4 - slightly positive\n",
    "5 - positive\"\"\")\n",
    "\n",
    "for i, tweet in df.iterrows():\n",
    "    score = tweet.score\n",
    "    if math.isnan(score) or score not in allowed_scores:\n",
    "        score = 45444 # random, not in allowed_scores\n",
    "        assert score not in allowed_scores\n",
    "    else:\n",
    "        continue\n",
    "        \n",
    "    while score not in allowed_scores:\n",
    "        tmp_score = input(\"{}: {}\\n\".format(i, tweet.full_text))\n",
    "        try:\n",
    "            score = int(tmp_score)\n",
    "            if score not in allowed_scores:\n",
    "                raise ValueError\n",
    "        except ValueError:\n",
    "            print(\"Score must one of values: {}\".format(allowed_scores))\n",
    "    clear_output()\n",
    "    \n",
    "    df.loc[i, \"score\"] = score\n",
    "    \n",
    "    # save scored data\n",
    "    df.to_csv(path_or_buf=csv_file, index=False)"
   ]
  }
 ],
 "metadata": {
  "kernelspec": {
   "display_name": "TwitterSentimentAnalyser-NN",
   "language": "python",
   "name": "twittersentimentanalyser-nn"
  },
  "language_info": {
   "codemirror_mode": {
    "name": "ipython",
    "version": 3
   },
   "file_extension": ".py",
   "mimetype": "text/x-python",
   "name": "python",
   "nbconvert_exporter": "python",
   "pygments_lexer": "ipython3",
   "version": "3.6.4"
  }
 },
 "nbformat": 4,
 "nbformat_minor": 2
}
