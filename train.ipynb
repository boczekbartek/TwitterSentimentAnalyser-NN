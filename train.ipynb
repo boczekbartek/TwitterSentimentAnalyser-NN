{
 "cells": [
  {
   "cell_type": "code",
   "execution_count": 8,
   "metadata": {},
   "outputs": [
    {
     "name": "stdout",
     "output_type": "stream",
     "text": [
      "The autoreload extension is already loaded. To reload it, use:\n",
      "  %reload_ext autoreload\n"
     ]
    }
   ],
   "source": [
    "from typing import List, Tuple\n",
    "from functools import partial\n",
    "\n",
    "import matplotlib.pyplot as plt\n",
    "import pandas as pd\n",
    "import numpy as np\n",
    "from process import *\n",
    "from nn.MLP import MLPNetwork\n",
    "from coding import Coding\n",
    "\n",
    "%load_ext autoreload\n",
    "%autoreload 2"
   ]
  },
  {
   "cell_type": "code",
   "execution_count": 4,
   "metadata": {},
   "outputs": [
    {
     "name": "stdout",
     "output_type": "stream",
     "text": [
      "Loading from file: tweets_apple.csv\n"
     ]
    }
   ],
   "source": [
    "train_df = get_train_data()\n",
    "train_df['processed_tokens'] = train_df.full_text.apply(tokenize_and_remove_punkt).apply(stem).apply(lem)"
   ]
  },
  {
   "cell_type": "markdown",
   "metadata": {},
   "source": [
    "## Make dictionary"
   ]
  },
  {
   "cell_type": "code",
   "execution_count": 6,
   "metadata": {},
   "outputs": [],
   "source": [
    "coder = Coding()\n",
    "_ = train_df.processed_tokens.apply(coder.update)"
   ]
  },
  {
   "cell_type": "markdown",
   "metadata": {},
   "source": [
    "## Encode twitts using dictionary and unify lenghts to num_features"
   ]
  },
  {
   "cell_type": "code",
   "execution_count": 98,
   "metadata": {},
   "outputs": [],
   "source": [
    "train_df['coded_tokens'] = (\n",
    "    train_df\n",
    "    .processed_tokens\n",
    "    .apply(lambda l: [coder.encode(tok) for tok in l])\n",
    "    .apply(partial(pad_or_truncate, target_len=num_features, end=True, pad_value=0))\n",
    "    .apply(np.array)\n",
    ")"
   ]
  },
  {
   "cell_type": "code",
   "execution_count": 99,
   "metadata": {},
   "outputs": [
    {
     "data": {
      "text/html": [
       "<div>\n",
       "<style scoped>\n",
       "    .dataframe tbody tr th:only-of-type {\n",
       "        vertical-align: middle;\n",
       "    }\n",
       "\n",
       "    .dataframe tbody tr th {\n",
       "        vertical-align: top;\n",
       "    }\n",
       "\n",
       "    .dataframe thead th {\n",
       "        text-align: right;\n",
       "    }\n",
       "</style>\n",
       "<table border=\"1\" class=\"dataframe\">\n",
       "  <thead>\n",
       "    <tr style=\"text-align: right;\">\n",
       "      <th></th>\n",
       "      <th>full_text</th>\n",
       "      <th>score</th>\n",
       "      <th>processed_tokens</th>\n",
       "      <th>coded_tokens</th>\n",
       "    </tr>\n",
       "  </thead>\n",
       "  <tbody>\n",
       "    <tr>\n",
       "      <th>71</th>\n",
       "      <td>RT @the_best_offer: 17% OFF #sale #save #apple...</td>\n",
       "      <td>3.0</td>\n",
       "      <td>[RT, the_best_off, 17, off, sale, save, appl, ...</td>\n",
       "      <td>[16, 624, 625, 626, 627, 628, 7, 348, 214, 500...</td>\n",
       "    </tr>\n",
       "    <tr>\n",
       "      <th>103</th>\n",
       "      <td>***10% Off June iPhone 8 Repairs***\\r\\n\\r\\nWe ...</td>\n",
       "      <td>4.0</td>\n",
       "      <td>[10, off, june, iphon, 8, repair, We, be, expe...</td>\n",
       "      <td>[327, 626, 595, 83, 140, 408, 18, 58, 821, 105...</td>\n",
       "    </tr>\n",
       "    <tr>\n",
       "      <th>99</th>\n",
       "      <td>Heading to the Apple Worldwide Developers Conf...</td>\n",
       "      <td>3.0</td>\n",
       "      <td>[head, to, the, appl, worldwid, develop, confe...</td>\n",
       "      <td>[789, 57, 4, 7, 94, 95, 96, 332, 264, 790, 57,...</td>\n",
       "    </tr>\n",
       "    <tr>\n",
       "      <th>199</th>\n",
       "      <td>RT @AR72014: #wallpaper #homescreen #lockscree...</td>\n",
       "      <td>3.0</td>\n",
       "      <td>[RT, ar72014, wallpap, homescreen, lockscreen,...</td>\n",
       "      <td>[16, 1237, 1238, 1239, 1240, 91, 7, 41, 123, 2...</td>\n",
       "    </tr>\n",
       "    <tr>\n",
       "      <th>150</th>\n",
       "      <td>MASAKI YODA -thought- on #Apple music https://...</td>\n",
       "      <td>3.0</td>\n",
       "      <td>[masaki, yoda, think, on, appl, music, http, t...</td>\n",
       "      <td>[1, 2, 618, 6, 7, 8, 9, 10, 11, 1077, 8, 13, 1...</td>\n",
       "    </tr>\n",
       "    <tr>\n",
       "      <th>175</th>\n",
       "      <td>New #MacBookPro with 6 cores &amp;amp; 32GB RAM to...</td>\n",
       "      <td>3.0</td>\n",
       "      <td>[new, macbookpro, with, 6, core, amp, 32gb, ra...</td>\n",
       "      <td>[34, 201, 22, 134, 199, 136, 202, 204, 57, 312...</td>\n",
       "    </tr>\n",
       "    <tr>\n",
       "      <th>53</th>\n",
       "      <td>iOS 11.4 is already rolling out with iCloud Me...</td>\n",
       "      <td>4.0</td>\n",
       "      <td>[io, 11, 4, be, alreadi, roll, out, with, iclo...</td>\n",
       "      <td>[91, 138, 129, 58, 235, 403, 264, 22, 82, 545,...</td>\n",
       "    </tr>\n",
       "    <tr>\n",
       "      <th>2</th>\n",
       "      <td>WWDC 2018 Liveblog: News and Updates From Appl...</td>\n",
       "      <td>3.0</td>\n",
       "      <td>[wwdc, 2018, liveblog, new, and, updat, from, ...</td>\n",
       "      <td>[31, 32, 33, 34, 35, 36, 37, 7, 38, 39, 9, 10,...</td>\n",
       "    </tr>\n",
       "    <tr>\n",
       "      <th>86</th>\n",
       "      <td>After @CambridgeAnalytica, #Facebook said it h...</td>\n",
       "      <td>2.0</td>\n",
       "      <td>[after, cambridgeanalytica, facebook, say, it,...</td>\n",
       "      <td>[715, 716, 146, 547, 87, 25, 717, 718, 232, 62...</td>\n",
       "    </tr>\n",
       "    <tr>\n",
       "      <th>36</th>\n",
       "      <td>Today is the day!! Join us this evening to wat...</td>\n",
       "      <td>4.0</td>\n",
       "      <td>[today, be, the, day, join, us, thi, even, to,...</td>\n",
       "      <td>[21, 58, 4, 316, 317, 318, 220, 319, 57, 241, ...</td>\n",
       "    </tr>\n",
       "  </tbody>\n",
       "</table>\n",
       "</div>"
      ],
      "text/plain": [
       "                                             full_text  score  \\\n",
       "71   RT @the_best_offer: 17% OFF #sale #save #apple...    3.0   \n",
       "103  ***10% Off June iPhone 8 Repairs***\\r\\n\\r\\nWe ...    4.0   \n",
       "99   Heading to the Apple Worldwide Developers Conf...    3.0   \n",
       "199  RT @AR72014: #wallpaper #homescreen #lockscree...    3.0   \n",
       "150  MASAKI YODA -thought- on #Apple music https://...    3.0   \n",
       "175  New #MacBookPro with 6 cores &amp; 32GB RAM to...    3.0   \n",
       "53   iOS 11.4 is already rolling out with iCloud Me...    4.0   \n",
       "2    WWDC 2018 Liveblog: News and Updates From Appl...    3.0   \n",
       "86   After @CambridgeAnalytica, #Facebook said it h...    2.0   \n",
       "36   Today is the day!! Join us this evening to wat...    4.0   \n",
       "\n",
       "                                      processed_tokens  \\\n",
       "71   [RT, the_best_off, 17, off, sale, save, appl, ...   \n",
       "103  [10, off, june, iphon, 8, repair, We, be, expe...   \n",
       "99   [head, to, the, appl, worldwid, develop, confe...   \n",
       "199  [RT, ar72014, wallpap, homescreen, lockscreen,...   \n",
       "150  [masaki, yoda, think, on, appl, music, http, t...   \n",
       "175  [new, macbookpro, with, 6, core, amp, 32gb, ra...   \n",
       "53   [io, 11, 4, be, alreadi, roll, out, with, iclo...   \n",
       "2    [wwdc, 2018, liveblog, new, and, updat, from, ...   \n",
       "86   [after, cambridgeanalytica, facebook, say, it,...   \n",
       "36   [today, be, the, day, join, us, thi, even, to,...   \n",
       "\n",
       "                                          coded_tokens  \n",
       "71   [16, 624, 625, 626, 627, 628, 7, 348, 214, 500...  \n",
       "103  [327, 626, 595, 83, 140, 408, 18, 58, 821, 105...  \n",
       "99   [789, 57, 4, 7, 94, 95, 96, 332, 264, 790, 57,...  \n",
       "199  [16, 1237, 1238, 1239, 1240, 91, 7, 41, 123, 2...  \n",
       "150  [1, 2, 618, 6, 7, 8, 9, 10, 11, 1077, 8, 13, 1...  \n",
       "175  [34, 201, 22, 134, 199, 136, 202, 204, 57, 312...  \n",
       "53   [91, 138, 129, 58, 235, 403, 264, 22, 82, 545,...  \n",
       "2    [31, 32, 33, 34, 35, 36, 37, 7, 38, 39, 9, 10,...  \n",
       "86   [715, 716, 146, 547, 87, 25, 717, 718, 232, 62...  \n",
       "36   [21, 58, 4, 316, 317, 318, 220, 319, 57, 241, ...  "
      ]
     },
     "execution_count": 99,
     "metadata": {},
     "output_type": "execute_result"
    }
   ],
   "source": [
    "train_df.sample(n=10)"
   ]
  },
  {
   "cell_type": "code",
   "execution_count": 106,
   "metadata": {},
   "outputs": [
    {
     "data": {
      "text/plain": [
       "array([67, 35, 68,  4, 69, 70, 71, 72, 73, 74, 75, 76, 71, 77, 78,  9, 10,\n",
       "       11, 79, 70, 80, 81,  7, 82, 83, 84,  0,  0,  0,  0])"
      ]
     },
     "execution_count": 106,
     "metadata": {},
     "output_type": "execute_result"
    }
   ],
   "source": [
    "train_df.coded_tokens.tolist()[5]"
   ]
  },
  {
   "cell_type": "markdown",
   "metadata": {},
   "source": [
    "## Training"
   ]
  },
  {
   "cell_type": "code",
   "execution_count": 276,
   "metadata": {},
   "outputs": [],
   "source": [
    "from sklearn.model_selection import train_test_split "
   ]
  },
  {
   "cell_type": "code",
   "execution_count": 296,
   "metadata": {},
   "outputs": [],
   "source": [
    "X_train, X_test, y_train, y_test = train_test_split(train_df.coded_tokens.tolist(), \n",
    "                                                    train_df.score.tolist(), test_size=0.3)\n",
    "\n",
    "X_train = np.array(X_train)\n",
    "y_train = np.array(y_train)"
   ]
  },
  {
   "cell_type": "code",
   "execution_count": 297,
   "metadata": {},
   "outputs": [],
   "source": [
    "def simplify(score):\n",
    "    \"\"\" Reduce number of classes \"\"\"\n",
    "    if score < 3.0:\n",
    "        return 0\n",
    "    elif score > 3.0:\n",
    "        return 2\n",
    "    else: return 1"
   ]
  },
  {
   "cell_type": "markdown",
   "metadata": {},
   "source": [
    "## Set training parameters\n",
    "* num_features -> this will mean number of neurons in input layer as well as number of coded tokens in each input tweet passed to network\n",
    "* num_classes -> number of classes, number of neurons in output layer of network\n",
    "* num_hidden_neurons -> number of neurons in hidden layer\n",
    "* num_expamles -> number of examples in dataset"
   ]
  },
  {
   "cell_type": "code",
   "execution_count": 7,
   "metadata": {},
   "outputs": [],
   "source": [
    "num_features = 30\n",
    "num_classes = len(train_df.score.unique())\n",
    "num_hidden_neurons = 400\n",
    "num_examples = len(train_df)"
   ]
  },
  {
   "cell_type": "code",
   "execution_count": 298,
   "metadata": {},
   "outputs": [],
   "source": [
    "net = MLPNetwork(num_classes=3,\n",
    "                num_examples=len(X_train),\n",
    "                num_features=num_features,\n",
    "                num_hidden_neurons={1 : 300})"
   ]
  },
  {
   "cell_type": "code",
   "execution_count": null,
   "metadata": {},
   "outputs": [],
   "source": []
  },
  {
   "cell_type": "code",
   "execution_count": 299,
   "metadata": {},
   "outputs": [
    {
     "data": {
      "text/plain": [
       "array([4., 3., 3., 2., 5., 3., 4., 3., 3., 2., 5., 3., 3., 4., 4., 3., 1.,\n",
       "       3., 4., 1., 3., 3., 4., 5., 3., 5., 2., 2., 2., 3., 3., 3., 1., 3.,\n",
       "       3., 5., 3., 5., 3., 4., 3., 3., 2., 4., 3., 5., 3., 4., 3., 3., 1.,\n",
       "       4., 3., 3., 3., 1., 1., 3., 3., 3., 4., 3., 4., 4., 4., 5., 3., 3.,\n",
       "       3., 4., 4., 3., 3., 5., 5., 3., 2., 3., 3., 3., 3., 4., 4., 3., 5.,\n",
       "       3., 4., 5., 3., 1., 3., 2., 3., 4., 5., 3., 2., 3., 4., 2., 3., 3.,\n",
       "       3., 2., 5., 4., 4., 3., 3., 5., 3., 2., 2., 3., 4., 3., 4., 3., 3.,\n",
       "       5., 3., 4., 3., 1., 5., 3., 4., 4., 1., 3., 4., 2., 4., 3., 4., 3.,\n",
       "       3., 4., 3., 3., 3., 3., 3., 4., 3., 3., 4., 3., 4., 3., 5., 3., 3.,\n",
       "       4., 3., 1., 3., 2., 3., 3., 4., 4., 3., 4., 4., 3., 3., 3., 3., 3.,\n",
       "       3., 4., 3., 1., 5.])"
      ]
     },
     "execution_count": 299,
     "metadata": {},
     "output_type": "execute_result"
    }
   ],
   "source": [
    "y_train"
   ]
  },
  {
   "cell_type": "code",
   "execution_count": 300,
   "metadata": {},
   "outputs": [
    {
     "name": "stdout",
     "output_type": "stream",
     "text": [
      "(175, 30)\n"
     ]
    }
   ],
   "source": [
    "print(X_train.shape)"
   ]
  },
  {
   "cell_type": "code",
   "execution_count": 313,
   "metadata": {},
   "outputs": [],
   "source": [
    "# models = net.fit(X_train,y_train, batches=10000, print_loss=True)\n",
    "mod = MLPClassifier(hidden_layer_sizes=(1000,1000), )\n",
    "\n",
    "t = mod.fit(X_train, y_train)"
   ]
  },
  {
   "cell_type": "code",
   "execution_count": 314,
   "metadata": {},
   "outputs": [
    {
     "name": "stdout",
     "output_type": "stream",
     "text": [
      "0.21142857142857144\n"
     ]
    }
   ],
   "source": [
    "good_sklearn = 0\n",
    "good_my = 0\n",
    "for i in range(len(y_test)):\n",
    "    pred_sklearn = t.predict([X_test[i]])\n",
    "#     pred_my = net.predict(X_train[i])\n",
    "    if pred_sklearn == y_test[i]:\n",
    "#         print(True)\n",
    "        good_sklearn+=1\n",
    "    if pred_my == y_train[i]:\n",
    "        good_my += 1\n",
    "   \n",
    "# print(float(good_my)/len(y_train))        \n",
    "print(float(good_sklearn)/len(y_train))"
   ]
  },
  {
   "cell_type": "code",
   "execution_count": 173,
   "metadata": {},
   "outputs": [
    {
     "name": "stdout",
     "output_type": "stream",
     "text": [
      "False\n",
      "False\n",
      "True\n",
      "False\n",
      "True\n",
      "False\n",
      "False\n",
      "False\n",
      "True\n",
      "False\n",
      "False\n",
      "False\n",
      "True\n",
      "0.3076923076923077\n"
     ]
    }
   ],
   "source": [
    "good = 0\n",
    "for i in range(len(y_test)):\n",
    "    if net.predict(X_test[i]) == y_test[i]:\n",
    "        print(True)\n",
    "        good+=1\n",
    "    else:\n",
    "        print(False)\n",
    "        \n",
    "print(float(good)/len(y_test))"
   ]
  },
  {
   "cell_type": "code",
   "execution_count": 126,
   "metadata": {},
   "outputs": [
    {
     "data": {
      "text/plain": [
       "full_text           MASAKI YODA -Carrying the future- on #Apple mu...\n",
       "score                                                               4\n",
       "processed_tokens    [masaki, yoda, carri, the, futur, on, appl, mu...\n",
       "coded_tokens        [1, 2, 3, 4, 5, 6, 7, 8, 9, 10, 11, 12, 8, 13,...\n",
       "Name: 0, dtype: object"
      ]
     },
     "execution_count": 126,
     "metadata": {},
     "output_type": "execute_result"
    }
   ],
   "source": [
    "train_df.loc[0]"
   ]
  },
  {
   "cell_type": "code",
   "execution_count": 224,
   "metadata": {},
   "outputs": [],
   "source": [
    "from sklearn.neural_network import MLPClassifier\n",
    "from sklearn.datasets import load_iris\n",
    "import numpy as np\n",
    "from keras.lay"
   ]
  },
  {
   "cell_type": "code",
   "execution_count": null,
   "metadata": {},
   "outputs": [],
   "source": []
  },
  {
   "cell_type": "code",
   "execution_count": 226,
   "metadata": {},
   "outputs": [
    {
     "name": "stderr",
     "output_type": "stream",
     "text": [
      "/Users/bartek/.virtualenvs/TwitterSentimentAnalyser-NN/lib/python3.6/site-packages/sklearn/neural_network/multilayer_perceptron.py:564: ConvergenceWarning: Stochastic Optimizer: Maximum iterations (200) reached and the optimization hasn't converged yet.\n",
      "  % self.max_iter, ConvergenceWarning)\n"
     ]
    },
    {
     "data": {
      "text/plain": [
       "MLPClassifier(activation='relu', alpha=0.0001, batch_size='auto', beta_1=0.9,\n",
       "       beta_2=0.999, early_stopping=False, epsilon=1e-08,\n",
       "       hidden_layer_sizes=(100,), learning_rate='constant',\n",
       "       learning_rate_init=0.001, max_iter=200, momentum=0.9,\n",
       "       nesterovs_momentum=True, power_t=0.5, random_state=None,\n",
       "       shuffle=True, solver='adam', tol=0.0001, validation_fraction=0.1,\n",
       "       verbose=False, warm_start=False)"
      ]
     },
     "execution_count": 226,
     "metadata": {},
     "output_type": "execute_result"
    }
   ],
   "source": [
    "X,Y = load_iris().data, load_iris().target\n",
    "\n",
    "mlp = MLPClassifier()\n",
    "mlp.fit(X, Y)"
   ]
  },
  {
   "cell_type": "code",
   "execution_count": 232,
   "metadata": {},
   "outputs": [
    {
     "data": {
      "text/plain": [
       "array([0, 0, 0, 0, 0, 0, 0, 0, 0, 0, 0, 0, 0, 0, 0, 0, 0, 0, 0, 0, 0, 0,\n",
       "       0, 0, 0, 0, 0, 0, 0, 0, 0, 0, 0, 0, 0, 0, 0, 0, 0, 0, 0, 0, 0, 0,\n",
       "       0, 0, 0, 0, 0, 0, 1, 1, 1, 1, 1, 1, 1, 1, 1, 1, 1, 1, 1, 1, 1, 1,\n",
       "       1, 1, 1, 1, 1, 1, 1, 1, 1, 1, 1, 1, 1, 1, 1, 1, 1, 1, 1, 1, 1, 1,\n",
       "       1, 1, 1, 1, 1, 1, 1, 1, 1, 1, 1, 1, 2, 2, 2, 2, 2, 2, 2, 2, 2, 2,\n",
       "       2, 2, 2, 2, 2, 2, 2, 2, 2, 2, 2, 2, 2, 2, 2, 2, 2, 2, 2, 2, 2, 2,\n",
       "       2, 2, 2, 2, 2, 2, 2, 2, 2, 2, 2, 2, 2, 2, 2, 2, 2, 2])"
      ]
     },
     "execution_count": 232,
     "metadata": {},
     "output_type": "execute_result"
    }
   ],
   "source": [
    "Y"
   ]
  },
  {
   "cell_type": "code",
   "execution_count": 230,
   "metadata": {},
   "outputs": [
    {
     "ename": "ValueError",
     "evalue": "shapes (4,1) and (4,100) not aligned: 1 (dim 1) != 4 (dim 0)",
     "output_type": "error",
     "traceback": [
      "\u001b[0;31m---------------------------------------------------------------------------\u001b[0m",
      "\u001b[0;31mValueError\u001b[0m                                Traceback (most recent call last)",
      "\u001b[0;32m<ipython-input-230-ad478eae7f56>\u001b[0m in \u001b[0;36m<module>\u001b[0;34m()\u001b[0m\n\u001b[0;32m----> 1\u001b[0;31m \u001b[0mprint\u001b[0m\u001b[0;34m(\u001b[0m\u001b[0mmlp\u001b[0m\u001b[0;34m.\u001b[0m\u001b[0mpredict\u001b[0m\u001b[0;34m(\u001b[0m\u001b[0mnp\u001b[0m\u001b[0;34m.\u001b[0m\u001b[0marray\u001b[0m\u001b[0;34m(\u001b[0m\u001b[0;34m[\u001b[0m\u001b[0;36m3.1\u001b[0m\u001b[0;34m,\u001b[0m  \u001b[0;36m2.5\u001b[0m\u001b[0;34m,\u001b[0m  \u001b[0;36m8.4\u001b[0m\u001b[0;34m,\u001b[0m  \u001b[0;36m2.2\u001b[0m\u001b[0;34m]\u001b[0m\u001b[0;34m)\u001b[0m\u001b[0;34m.\u001b[0m\u001b[0mreshape\u001b[0m\u001b[0;34m(\u001b[0m\u001b[0;34m-\u001b[0m\u001b[0;36m1\u001b[0m\u001b[0;34m,\u001b[0m\u001b[0;36m1\u001b[0m\u001b[0;34m)\u001b[0m\u001b[0;34m)\u001b[0m\u001b[0;34m)\u001b[0m\u001b[0;34m\u001b[0m\u001b[0m\n\u001b[0m\u001b[1;32m      2\u001b[0m \u001b[0;34m\u001b[0m\u001b[0m\n",
      "\u001b[0;32m~/.virtualenvs/TwitterSentimentAnalyser-NN/lib/python3.6/site-packages/sklearn/neural_network/multilayer_perceptron.py\u001b[0m in \u001b[0;36mpredict\u001b[0;34m(self, X)\u001b[0m\n\u001b[1;32m    947\u001b[0m         \"\"\"\n\u001b[1;32m    948\u001b[0m         \u001b[0mcheck_is_fitted\u001b[0m\u001b[0;34m(\u001b[0m\u001b[0mself\u001b[0m\u001b[0;34m,\u001b[0m \u001b[0;34m\"coefs_\"\u001b[0m\u001b[0;34m)\u001b[0m\u001b[0;34m\u001b[0m\u001b[0m\n\u001b[0;32m--> 949\u001b[0;31m         \u001b[0my_pred\u001b[0m \u001b[0;34m=\u001b[0m \u001b[0mself\u001b[0m\u001b[0;34m.\u001b[0m\u001b[0m_predict\u001b[0m\u001b[0;34m(\u001b[0m\u001b[0mX\u001b[0m\u001b[0;34m)\u001b[0m\u001b[0;34m\u001b[0m\u001b[0m\n\u001b[0m\u001b[1;32m    950\u001b[0m \u001b[0;34m\u001b[0m\u001b[0m\n\u001b[1;32m    951\u001b[0m         \u001b[0;32mif\u001b[0m \u001b[0mself\u001b[0m\u001b[0;34m.\u001b[0m\u001b[0mn_outputs_\u001b[0m \u001b[0;34m==\u001b[0m \u001b[0;36m1\u001b[0m\u001b[0;34m:\u001b[0m\u001b[0;34m\u001b[0m\u001b[0m\n",
      "\u001b[0;32m~/.virtualenvs/TwitterSentimentAnalyser-NN/lib/python3.6/site-packages/sklearn/neural_network/multilayer_perceptron.py\u001b[0m in \u001b[0;36m_predict\u001b[0;34m(self, X)\u001b[0m\n\u001b[1;32m    676\u001b[0m                                          layer_units[i + 1])))\n\u001b[1;32m    677\u001b[0m         \u001b[0;31m# forward propagate\u001b[0m\u001b[0;34m\u001b[0m\u001b[0;34m\u001b[0m\u001b[0m\n\u001b[0;32m--> 678\u001b[0;31m         \u001b[0mself\u001b[0m\u001b[0;34m.\u001b[0m\u001b[0m_forward_pass\u001b[0m\u001b[0;34m(\u001b[0m\u001b[0mactivations\u001b[0m\u001b[0;34m)\u001b[0m\u001b[0;34m\u001b[0m\u001b[0m\n\u001b[0m\u001b[1;32m    679\u001b[0m         \u001b[0my_pred\u001b[0m \u001b[0;34m=\u001b[0m \u001b[0mactivations\u001b[0m\u001b[0;34m[\u001b[0m\u001b[0;34m-\u001b[0m\u001b[0;36m1\u001b[0m\u001b[0;34m]\u001b[0m\u001b[0;34m\u001b[0m\u001b[0m\n\u001b[1;32m    680\u001b[0m \u001b[0;34m\u001b[0m\u001b[0m\n",
      "\u001b[0;32m~/.virtualenvs/TwitterSentimentAnalyser-NN/lib/python3.6/site-packages/sklearn/neural_network/multilayer_perceptron.py\u001b[0m in \u001b[0;36m_forward_pass\u001b[0;34m(self, activations)\u001b[0m\n\u001b[1;32m    103\u001b[0m         \u001b[0;32mfor\u001b[0m \u001b[0mi\u001b[0m \u001b[0;32min\u001b[0m \u001b[0mrange\u001b[0m\u001b[0;34m(\u001b[0m\u001b[0mself\u001b[0m\u001b[0;34m.\u001b[0m\u001b[0mn_layers_\u001b[0m \u001b[0;34m-\u001b[0m \u001b[0;36m1\u001b[0m\u001b[0;34m)\u001b[0m\u001b[0;34m:\u001b[0m\u001b[0;34m\u001b[0m\u001b[0m\n\u001b[1;32m    104\u001b[0m             activations[i + 1] = safe_sparse_dot(activations[i],\n\u001b[0;32m--> 105\u001b[0;31m                                                  self.coefs_[i])\n\u001b[0m\u001b[1;32m    106\u001b[0m             \u001b[0mactivations\u001b[0m\u001b[0;34m[\u001b[0m\u001b[0mi\u001b[0m \u001b[0;34m+\u001b[0m \u001b[0;36m1\u001b[0m\u001b[0;34m]\u001b[0m \u001b[0;34m+=\u001b[0m \u001b[0mself\u001b[0m\u001b[0;34m.\u001b[0m\u001b[0mintercepts_\u001b[0m\u001b[0;34m[\u001b[0m\u001b[0mi\u001b[0m\u001b[0;34m]\u001b[0m\u001b[0;34m\u001b[0m\u001b[0m\n\u001b[1;32m    107\u001b[0m \u001b[0;34m\u001b[0m\u001b[0m\n",
      "\u001b[0;32m~/.virtualenvs/TwitterSentimentAnalyser-NN/lib/python3.6/site-packages/sklearn/utils/extmath.py\u001b[0m in \u001b[0;36msafe_sparse_dot\u001b[0;34m(a, b, dense_output)\u001b[0m\n\u001b[1;32m    138\u001b[0m         \u001b[0;32mreturn\u001b[0m \u001b[0mret\u001b[0m\u001b[0;34m\u001b[0m\u001b[0m\n\u001b[1;32m    139\u001b[0m     \u001b[0;32melse\u001b[0m\u001b[0;34m:\u001b[0m\u001b[0;34m\u001b[0m\u001b[0m\n\u001b[0;32m--> 140\u001b[0;31m         \u001b[0;32mreturn\u001b[0m \u001b[0mnp\u001b[0m\u001b[0;34m.\u001b[0m\u001b[0mdot\u001b[0m\u001b[0;34m(\u001b[0m\u001b[0ma\u001b[0m\u001b[0;34m,\u001b[0m \u001b[0mb\u001b[0m\u001b[0;34m)\u001b[0m\u001b[0;34m\u001b[0m\u001b[0m\n\u001b[0m\u001b[1;32m    141\u001b[0m \u001b[0;34m\u001b[0m\u001b[0m\n\u001b[1;32m    142\u001b[0m \u001b[0;34m\u001b[0m\u001b[0m\n",
      "\u001b[0;31mValueError\u001b[0m: shapes (4,1) and (4,100) not aligned: 1 (dim 1) != 4 (dim 0)"
     ]
    }
   ],
   "source": [
    "print(mlp.predict(np.array([3.1,  2.5,  8.4,  2.2]).reshape(-1,1)))\n",
    "      "
   ]
  },
  {
   "cell_type": "code",
   "execution_count": null,
   "metadata": {},
   "outputs": [],
   "source": [
    "print(mlp.predict_proba([3.1,  2.5,  8.4,  2.2]))"
   ]
  },
  {
   "cell_type": "code",
   "execution_count": 228,
   "metadata": {},
   "outputs": [
    {
     "ename": "SyntaxError",
     "evalue": "invalid syntax (<ipython-input-228-2829967ea018>, line 2)",
     "output_type": "error",
     "traceback": [
      "\u001b[0;36m  File \u001b[0;32m\"<ipython-input-228-2829967ea018>\"\u001b[0;36m, line \u001b[0;32m2\u001b[0m\n\u001b[0;31m    print(mlp.predict_proba([3.1,  2.5,  8.4,  2.2]))\u001b[0m\n\u001b[0m        ^\u001b[0m\n\u001b[0;31mSyntaxError\u001b[0m\u001b[0;31m:\u001b[0m invalid syntax\n"
     ]
    }
   ],
   "source": [
    "\n",
    "print(\"sum: %f\"%np.sum(mlp.predict_proba([3.1,  2.5,  8.4,  2.2])))"
   ]
  },
  {
   "cell_type": "code",
   "execution_count": null,
   "metadata": {},
   "outputs": [],
   "source": []
  }
 ],
 "metadata": {
  "kernelspec": {
   "display_name": "TwitterSentimentAnalyser-NN",
   "language": "python",
   "name": "twittersentimentanalyser-nn"
  },
  "language_info": {
   "codemirror_mode": {
    "name": "ipython",
    "version": 3
   },
   "file_extension": ".py",
   "mimetype": "text/x-python",
   "name": "python",
   "nbconvert_exporter": "python",
   "pygments_lexer": "ipython3",
   "version": "3.6.4"
  }
 },
 "nbformat": 4,
 "nbformat_minor": 2
}
