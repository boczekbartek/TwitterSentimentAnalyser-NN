{
 "cells": [
  {
   "cell_type": "code",
   "execution_count": 77,
   "metadata": {},
   "outputs": [
    {
     "name": "stdout",
     "output_type": "stream",
     "text": [
      "The autoreload extension is already loaded. To reload it, use:\n",
      "  %reload_ext autoreload\n"
     ]
    }
   ],
   "source": [
    "from typing import List, Tuple\n",
    "from functools import partial\n",
    "\n",
    "import matplotlib.pyplot as plt\n",
    "import pandas as pd\n",
    "import numpy as np\n",
    "from process import *\n",
    "from nn.MLP import MLPNetwork\n",
    "from coding import Coding\n",
    "\n",
    "%load_ext autoreload\n",
    "%autoreload 2"
   ]
  },
  {
   "cell_type": "code",
   "execution_count": 49,
   "metadata": {},
   "outputs": [],
   "source": [
    "def get_tweets_data(csv_file: str=\"tweets_apple.csv\") -> List[Tuple[str, int]]:\n",
    "    \"\"\" Load tweets table from csv. Gets only scored tweets and returns pars with tweet text and score\"\"\"\n",
    "    if not os.path.isfile(csv_file):\n",
    "        raise FileNotFoundError\n",
    "    \n",
    "    print(\"Loading from file:\", csv_file, sep=\" \")\n",
    "    df = pd.read_csv(csv_file)\n",
    "    return df.dropna()[['full_text', 'score']]\n",
    "    \n"
   ]
  },
  {
   "cell_type": "code",
   "execution_count": 50,
   "metadata": {},
   "outputs": [
    {
     "name": "stdout",
     "output_type": "stream",
     "text": [
      "Loading from file: tweets_apple.csv\n"
     ]
    }
   ],
   "source": [
    "train_df = get_tweets_data()\n",
    "train_df['processed_tokens'] = train_df.full_text.apply(tokenize_and_remove_punkt).apply(stem).apply(lem)"
   ]
  },
  {
   "cell_type": "markdown",
   "metadata": {},
   "source": [
    "## Make dictionary"
   ]
  },
  {
   "cell_type": "code",
   "execution_count": 65,
   "metadata": {},
   "outputs": [
    {
     "data": {
      "text/plain": [
       "0      {'masaki': 1, 'yoda': 2, 'carri': 3, 'the': 4,...\n",
       "1      {'masaki': 1, 'yoda': 2, 'carri': 3, 'the': 4,...\n",
       "2      {'masaki': 1, 'yoda': 2, 'carri': 3, 'the': 4,...\n",
       "3      {'masaki': 1, 'yoda': 2, 'carri': 3, 'the': 4,...\n",
       "4      {'masaki': 1, 'yoda': 2, 'carri': 3, 'the': 4,...\n",
       "5      {'masaki': 1, 'yoda': 2, 'carri': 3, 'the': 4,...\n",
       "6      {'masaki': 1, 'yoda': 2, 'carri': 3, 'the': 4,...\n",
       "7      {'masaki': 1, 'yoda': 2, 'carri': 3, 'the': 4,...\n",
       "8      {'masaki': 1, 'yoda': 2, 'carri': 3, 'the': 4,...\n",
       "9      {'masaki': 1, 'yoda': 2, 'carri': 3, 'the': 4,...\n",
       "10     {'masaki': 1, 'yoda': 2, 'carri': 3, 'the': 4,...\n",
       "11     {'masaki': 1, 'yoda': 2, 'carri': 3, 'the': 4,...\n",
       "12     {'masaki': 1, 'yoda': 2, 'carri': 3, 'the': 4,...\n",
       "13     {'masaki': 1, 'yoda': 2, 'carri': 3, 'the': 4,...\n",
       "14     {'masaki': 1, 'yoda': 2, 'carri': 3, 'the': 4,...\n",
       "15     {'masaki': 1, 'yoda': 2, 'carri': 3, 'the': 4,...\n",
       "16     {'masaki': 1, 'yoda': 2, 'carri': 3, 'the': 4,...\n",
       "17     {'masaki': 1, 'yoda': 2, 'carri': 3, 'the': 4,...\n",
       "18     {'masaki': 1, 'yoda': 2, 'carri': 3, 'the': 4,...\n",
       "19     {'masaki': 1, 'yoda': 2, 'carri': 3, 'the': 4,...\n",
       "20     {'masaki': 1, 'yoda': 2, 'carri': 3, 'the': 4,...\n",
       "21     {'masaki': 1, 'yoda': 2, 'carri': 3, 'the': 4,...\n",
       "22     {'masaki': 1, 'yoda': 2, 'carri': 3, 'the': 4,...\n",
       "23     {'masaki': 1, 'yoda': 2, 'carri': 3, 'the': 4,...\n",
       "24     {'masaki': 1, 'yoda': 2, 'carri': 3, 'the': 4,...\n",
       "25     {'masaki': 1, 'yoda': 2, 'carri': 3, 'the': 4,...\n",
       "26     {'masaki': 1, 'yoda': 2, 'carri': 3, 'the': 4,...\n",
       "27     {'masaki': 1, 'yoda': 2, 'carri': 3, 'the': 4,...\n",
       "28     {'masaki': 1, 'yoda': 2, 'carri': 3, 'the': 4,...\n",
       "29     {'masaki': 1, 'yoda': 2, 'carri': 3, 'the': 4,...\n",
       "                             ...                        \n",
       "221    {'masaki': 1, 'yoda': 2, 'carri': 3, 'the': 4,...\n",
       "222    {'masaki': 1, 'yoda': 2, 'carri': 3, 'the': 4,...\n",
       "223    {'masaki': 1, 'yoda': 2, 'carri': 3, 'the': 4,...\n",
       "224    {'masaki': 1, 'yoda': 2, 'carri': 3, 'the': 4,...\n",
       "225    {'masaki': 1, 'yoda': 2, 'carri': 3, 'the': 4,...\n",
       "226    {'masaki': 1, 'yoda': 2, 'carri': 3, 'the': 4,...\n",
       "227    {'masaki': 1, 'yoda': 2, 'carri': 3, 'the': 4,...\n",
       "228    {'masaki': 1, 'yoda': 2, 'carri': 3, 'the': 4,...\n",
       "229    {'masaki': 1, 'yoda': 2, 'carri': 3, 'the': 4,...\n",
       "230    {'masaki': 1, 'yoda': 2, 'carri': 3, 'the': 4,...\n",
       "231    {'masaki': 1, 'yoda': 2, 'carri': 3, 'the': 4,...\n",
       "232    {'masaki': 1, 'yoda': 2, 'carri': 3, 'the': 4,...\n",
       "233    {'masaki': 1, 'yoda': 2, 'carri': 3, 'the': 4,...\n",
       "234    {'masaki': 1, 'yoda': 2, 'carri': 3, 'the': 4,...\n",
       "235    {'masaki': 1, 'yoda': 2, 'carri': 3, 'the': 4,...\n",
       "236    {'masaki': 1, 'yoda': 2, 'carri': 3, 'the': 4,...\n",
       "237    {'masaki': 1, 'yoda': 2, 'carri': 3, 'the': 4,...\n",
       "238    {'masaki': 1, 'yoda': 2, 'carri': 3, 'the': 4,...\n",
       "239    {'masaki': 1, 'yoda': 2, 'carri': 3, 'the': 4,...\n",
       "240    {'masaki': 1, 'yoda': 2, 'carri': 3, 'the': 4,...\n",
       "241    {'masaki': 1, 'yoda': 2, 'carri': 3, 'the': 4,...\n",
       "242    {'masaki': 1, 'yoda': 2, 'carri': 3, 'the': 4,...\n",
       "243    {'masaki': 1, 'yoda': 2, 'carri': 3, 'the': 4,...\n",
       "244    {'masaki': 1, 'yoda': 2, 'carri': 3, 'the': 4,...\n",
       "245    {'masaki': 1, 'yoda': 2, 'carri': 3, 'the': 4,...\n",
       "246    {'masaki': 1, 'yoda': 2, 'carri': 3, 'the': 4,...\n",
       "247    {'masaki': 1, 'yoda': 2, 'carri': 3, 'the': 4,...\n",
       "248    {'masaki': 1, 'yoda': 2, 'carri': 3, 'the': 4,...\n",
       "249    {'masaki': 1, 'yoda': 2, 'carri': 3, 'the': 4,...\n",
       "250    {'masaki': 1, 'yoda': 2, 'carri': 3, 'the': 4,...\n",
       "Name: processed_tokens, Length: 251, dtype: object"
      ]
     },
     "execution_count": 65,
     "metadata": {},
     "output_type": "execute_result"
    }
   ],
   "source": [
    "coder = Coding()\n",
    "train_df.processed_tokens.apply(coder.update)"
   ]
  },
  {
   "cell_type": "code",
   "execution_count": 70,
   "metadata": {},
   "outputs": [],
   "source": [
    "train_df['coded_tokens'] = (train_df\n",
    "                            .processed_tokens\n",
    "                            .apply(lambda l: [coder.encode(tok) for tok in l])\n",
    "                            .apply(partial(pad_or_truncate, target_len=30)"
   ]
  },
  {
   "cell_type": "markdown",
   "metadata": {},
   "source": [
    "## Training"
   ]
  },
  {
   "cell_type": "code",
   "execution_count": 76,
   "metadata": {},
   "outputs": [],
   "source": [
    "def pad_or_truncate(some_list, target_len):\n",
    "    return some_list[:target_len] + [0]*(target_len - len(some_list))"
   ]
  },
  {
   "cell_type": "code",
   "execution_count": 75,
   "metadata": {},
   "outputs": [
    {
     "name": "stdout",
     "output_type": "stream",
     "text": [
      "58\n"
     ]
    }
   ],
   "source": [
    "fit_to_max(train_df.coded_tokens.tolist())"
   ]
  },
  {
   "cell_type": "code",
   "execution_count": 73,
   "metadata": {},
   "outputs": [
    {
     "ename": "TypeError",
     "evalue": "__init__() missing 4 required positional arguments: 'num_features', 'num_classes', 'num_examples', and 'num_hidden_neurons'",
     "output_type": "error",
     "traceback": [
      "\u001b[0;31m---------------------------------------------------------------------------\u001b[0m",
      "\u001b[0;31mTypeError\u001b[0m                                 Traceback (most recent call last)",
      "\u001b[0;32m<ipython-input-73-53dc2cd60715>\u001b[0m in \u001b[0;36m<module>\u001b[0;34m()\u001b[0m\n\u001b[0;32m----> 1\u001b[0;31m \u001b[0mnet\u001b[0m \u001b[0;34m=\u001b[0m \u001b[0mMLPNetwork\u001b[0m\u001b[0;34m(\u001b[0m\u001b[0;34m)\u001b[0m\u001b[0;34m\u001b[0m\u001b[0m\n\u001b[0m",
      "\u001b[0;31mTypeError\u001b[0m: __init__() missing 4 required positional arguments: 'num_features', 'num_classes', 'num_examples', and 'num_hidden_neurons'"
     ]
    }
   ],
   "source": [
    "net = MLPNetwork()"
   ]
  },
  {
   "cell_type": "code",
   "execution_count": null,
   "metadata": {},
   "outputs": [],
   "source": []
  }
 ],
 "metadata": {
  "kernelspec": {
   "display_name": "TwitterSentimentAnalyser-NN",
   "language": "python",
   "name": "twittersentimentanalyser-nn"
  },
  "language_info": {
   "codemirror_mode": {
    "name": "ipython",
    "version": 3
   },
   "file_extension": ".py",
   "mimetype": "text/x-python",
   "name": "python",
   "nbconvert_exporter": "python",
   "pygments_lexer": "ipython3",
   "version": "3.6.4"
  }
 },
 "nbformat": 4,
 "nbformat_minor": 2
}
