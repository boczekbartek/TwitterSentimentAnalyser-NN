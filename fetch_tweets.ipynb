{
 "cells": [
  {
   "cell_type": "code",
   "execution_count": 105,
   "metadata": {},
   "outputs": [],
   "source": [
    "\n",
    "import pickle\n",
    "\n",
    "consumer_key = \"consumer_key\"\n",
    "consumer_secret = \"consumer_secret\"\n",
    "access_token_key = \"access_token_key\"\n",
    "access_token_secret = \"asccess_token_secret\"\n",
    "\n",
    "credentials = dict(\n",
    "    consumer_key=consumer_key,\n",
    "    consumer_secret=consumer_secret,\n",
    "    access_token_key=access_token_key,\n",
    "    access_token_secret=access_token_secret\n",
    ")"
   ]
  },
  {
   "cell_type": "markdown",
   "metadata": {},
   "source": [
    "### Save credentials to file"
   ]
  },
  {
   "cell_type": "code",
   "execution_count": null,
   "metadata": {},
   "outputs": [],
   "source": [
    "# import pickle\n",
    "# with open(\"credentials\", \"wb\") as cred_fd:\n",
    "#    pickle.dump(credentials, cred_fd)"
   ]
  },
  {
   "cell_type": "markdown",
   "metadata": {},
   "source": [
    "### Load credentials \n",
    "<font color='red'>NOTE:</font> that you don't want other people to know them, so do not commit accidently do github or something"
   ]
  },
  {
   "cell_type": "code",
   "execution_count": 110,
   "metadata": {},
   "outputs": [
    {
     "data": {
      "text/plain": [
       "{'access_token_key': '2442925552-YxirXKCR5gepfDOLrHjnRwk2ZaIAKeLr5Eon18W',\n",
       " 'access_token_secret': 'UjzZE9t5dByoPYf7p2vJH6jjQkGp9IaFOmScpOXCh9brC',\n",
       " 'consumer_key': 'pX7FadCqipowjObaXlCnLucnA',\n",
       " 'consumer_secret': '4AHLIZ4Y1tEQMjDpTMoHqrnwdOtjdLsONzfYqqfjXid3ddm5HV'}"
      ]
     },
     "execution_count": 110,
     "metadata": {},
     "output_type": "execute_result"
    }
   ],
   "source": [
    "import pickle\n",
    "\n",
    "with open(\"credentials\", \"rb\") as cred_fd:\n",
    "    credentials = pickle.load(cred_fd)\n",
    "\n",
    "credentials"
   ]
  },
  {
   "cell_type": "code",
   "execution_count": 139,
   "metadata": {},
   "outputs": [],
   "source": [
    "import twitter\n",
    "import csv\n",
    "from functools import lru_cache\n",
    "\n",
    "class TwitterDownloader:\n",
    "    def __init__(self, credentials):\n",
    "        self.api = twitter.Api(**credentials, sleep_on_rate_limit=True)\n",
    "        self.data = []\n",
    "        print(\"Credentials verification...\")\n",
    "        print(self.api.VerifyCredentials())\n",
    "    \n",
    "    @staticmethod\n",
    "    def extract_tweet_data(tweet):\n",
    "        return {\n",
    "            \"created_at\" : tweet.created_at,\n",
    "            \"created_at_seconds\" : tweet.created_at_in_seconds,\n",
    "            \"text\" : tweet.text,\n",
    "            \"id\" : tweet.id_str,\n",
    "            \"lang\" : tweet.lang,\n",
    "            \"user\" : tweet.user,\n",
    "            \"full_text\" : tweet.full_text\n",
    "        }\n",
    "    \n",
    "    def tweets_with_hashtags_generator(self, hashtags, lang=\"pl\",max_tweets=100):\n",
    "        \"\"\"\n",
    "        Download tweets with given hashtags. Minimum is 100.\n",
    "        \"\"\"\n",
    "\n",
    "        for hashtag in hashtags:\n",
    "            tweets = api.GetSearch(term=\"#%s\" % hashtag, count=2, lang=lang)\n",
    "            for tweet in tweets:\n",
    "                parsed_tweet = self.extract_tweet_data(tweet)\n",
    "                self.data.append(parsed_tweet)\n",
    "                yield parsed_tweet\n",
    "    "
   ]
  },
  {
   "cell_type": "markdown",
   "metadata": {},
   "source": [
    "### Create object with credentials"
   ]
  },
  {
   "cell_type": "code",
   "execution_count": 140,
   "metadata": {},
   "outputs": [
    {
     "name": "stdout",
     "output_type": "stream",
     "text": [
      "Credentials verification...\n",
      "{\"created_at\": \"Fri Mar 28 21:14:06 +0000 2014\", \"default_profile\": true, \"favourites_count\": 3, \"followers_count\": 2, \"friends_count\": 14, \"id\": 2442925552, \"id_str\": \"2442925552\", \"lang\": \"pl\", \"name\": \"Bartek Boczek\", \"profile_background_color\": \"C0DEED\", \"profile_background_image_url\": \"http://abs.twimg.com/images/themes/theme1/bg.png\", \"profile_background_image_url_https\": \"https://abs.twimg.com/images/themes/theme1/bg.png\", \"profile_image_url\": \"http://pbs.twimg.com/profile_images/449655829525200896/bRmFG3KO_normal.jpeg\", \"profile_image_url_https\": \"https://pbs.twimg.com/profile_images/449655829525200896/bRmFG3KO_normal.jpeg\", \"profile_link_color\": \"1DA1F2\", \"profile_sidebar_border_color\": \"C0DEED\", \"profile_sidebar_fill_color\": \"DDEEF6\", \"profile_text_color\": \"333333\", \"profile_use_background_image\": true, \"screen_name\": \"goterix1\", \"status\": {\"created_at\": \"Sat Apr 23 09:51:51 +0000 2016\", \"id\": 723811616547082240, \"id_str\": \"723811616547082240\", \"lang\": \"pl\", \"retweet_count\": 21, \"retweeted\": true, \"retweeted_status\": {\"created_at\": \"Wed Mar 23 12:42:43 +0000 2016\", \"favorite_count\": 34, \"id\": 712620592634179585, \"id_str\": \"712620592634179585\", \"lang\": \"pl\", \"retweet_count\": 21, \"retweeted\": true, \"source\": \"<a href=\\\"https://about.twitter.com/products/tweetdeck\\\" rel=\\\"nofollow\\\">TweetDeck</a>\", \"text\": \"BIG DAY! Naukowcy trwale usun\\u0119li #HIV z ludzkich kom\\u00f3rek za pomoc\\u0105 nowej techniki edytowania gen\\u00f3w. https://t.co/PRtwPyy3il #CRISPRCas9\"}, \"source\": \"<a href=\\\"http://twitter.com/download/android\\\" rel=\\\"nofollow\\\">Twitter for Android</a>\", \"text\": \"RT @ritahairwood: BIG DAY! Naukowcy trwale usun\\u0119li #HIV z ludzkich kom\\u00f3rek za pomoc\\u0105 nowej techniki edytowania gen\\u00f3w. https://t.co/PRtwPyy3\\u2026\"}, \"statuses_count\": 1}\n"
     ]
    }
   ],
   "source": [
    "td = TwitterDownloader(credentials)"
   ]
  },
  {
   "cell_type": "markdown",
   "metadata": {},
   "source": [
    "### Start downloading tweets, rate limits will be held automatically"
   ]
  },
  {
   "cell_type": "code",
   "execution_count": 141,
   "metadata": {},
   "outputs": [],
   "source": [
    "hashtags = [\"android\", \"ios\", \"smartfon\", \"telefon\"]\n",
    "\n",
    "tweets_generator = td.tweets_with_hashtags_generator(hashtags=hashtags,lang=\"pl\")"
   ]
  },
  {
   "cell_type": "code",
   "execution_count": 142,
   "metadata": {},
   "outputs": [],
   "source": [
    "r = next(tweets_generator)"
   ]
  },
  {
   "cell_type": "code",
   "execution_count": 143,
   "metadata": {},
   "outputs": [
    {
     "data": {
      "text/plain": [
       "{'created_at': 'Tue Mar 13 20:42:24 +0000 2018',\n",
       " 'created_at_seconds': 1520973744,\n",
       " 'full_text': None,\n",
       " 'id': '973660569864753153',\n",
       " 'lang': 'pl',\n",
       " 'text': '#NowPlaying Lekki !!! feat. @odunsitheengine @ajebutter22 - M.I Abaga   #tunein #android #iOS #OnlyTheBest #Naija #internetradio #podcasts',\n",
       " 'user': User(ID=799472376174018560, ScreenName=lokalfmNG)}"
      ]
     },
     "execution_count": 143,
     "metadata": {},
     "output_type": "execute_result"
    }
   ],
   "source": [
    "r"
   ]
  },
  {
   "cell_type": "code",
   "execution_count": null,
   "metadata": {},
   "outputs": [],
   "source": [
    "with open('tweets.csv', 'a+') as csv_file:\n",
    "    csv_writer = csv.writer(csv_file)\n",
    "    csv_writer.writerow([\"hello\", \"world\"])"
   ]
  }
 ],
 "metadata": {
  "kernelspec": {
   "display_name": "TwitterSentimentAnalyser-NN",
   "language": "python",
   "name": "twittersentimentanalyser-nn"
  },
  "language_info": {
   "codemirror_mode": {
    "name": "ipython",
    "version": 3
   },
   "file_extension": ".py",
   "mimetype": "text/x-python",
   "name": "python",
   "nbconvert_exporter": "python",
   "pygments_lexer": "ipython3",
   "version": "3.6.4"
  }
 },
 "nbformat": 4,
 "nbformat_minor": 2
}
